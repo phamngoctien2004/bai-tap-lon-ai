{
 "cells": [
  {
   "cell_type": "code",
   "execution_count": 1,
   "id": "0fb4b4e2",
   "metadata": {},
   "outputs": [],
   "source": [
    "import numpy as np\n",
    "import pandas as pd\n",
    "import matplotlib.pyplot as plt\n",
    "import cv2\n",
    "from sklearn.model_selection import train_test_split\n",
    "from sklearn.utils import shuffle\n",
    "from keras.models import Sequential\n",
    "from keras.layers import Dense, Flatten, Conv2D, MaxPool2D, Dropout\n",
    "from keras.optimizers import SGD, Adam\n",
    "from tensorflow.keras.optimizers import SGD\n",
    "from keras import optimizers\n",
    "from keras.callbacks import ReduceLROnPlateau, EarlyStopping"
   ]
  },
  {
   "cell_type": "markdown",
   "id": "b920eef1",
   "metadata": {},
   "source": [
    "Tạo danh sách label"
   ]
  },
  {
   "cell_type": "code",
   "execution_count": null,
   "id": "8f660ff3",
   "metadata": {},
   "outputs": [],
   "source": [
    "word_dict = {\n",
    "    0:'A',1:'B',2:'C',3:'D',4:'E',5:'F',6:'G',7:'H',8:'I',9:'J',10:'K',11:'L',12:'M',13:'N',14:'O',15:'P',16:'Q',17:'R',18:'S',19:'T',20:'U',21:'V',22:'W',23:'X', 24:'Y',25:'Z'\n",
    "}"
   ]
  },
  {
   "cell_type": "code",
   "execution_count": null,
   "id": "30cb84f4",
   "metadata": {},
   "outputs": [],
   "source": [
    "import tensorflow as tf\n",
    "import tensorflow_datasets as tfds\n",
    "\n",
    "# Tải EMNIST Letters từ tensorflow_datasets\n",
    "(ds_train_full, ds_test), ds_info = tfds.load(\n",
    "    'emnist/letters',\n",
    "    split=['train', 'test'],\n",
    "    shuffle_files=True,\n",
    "    as_supervised=True,\n",
    "    with_info=True\n",
    ")"
   ]
  },
  {
   "cell_type": "markdown",
   "id": "0ffddab4",
   "metadata": {},
   "source": [
    "Tiền xử lí ảnh để phù hợp mô hình CNN"
   ]
  },
  {
   "cell_type": "code",
   "execution_count": null,
   "id": "ea41acd5",
   "metadata": {},
   "outputs": [],
   "source": [
    "# tiền Xử lý ảnh phù hợp CNN\n",
    "def pre_process(image, label):\n",
    "    image = tf.transpose(image, perm=[1, 0, 2])        # Xoay ảnh về đúng chiều\n",
    "    image = tf.cast(image, tf.float32) / 255.0         # Chuẩn hóa pixel về [0,1]\n",
    "    label = label - 1                                   # Nhãn từ 1-26 → 0-25\n",
    "    return image, label"
   ]
  },
  {
   "cell_type": "markdown",
   "id": "7e45d5c2",
   "metadata": {},
   "source": [
    "Chia tập dữ liệu train/dev/test"
   ]
  },
  {
   "cell_type": "code",
   "execution_count": null,
   "id": "efa6897a",
   "metadata": {},
   "outputs": [],
   "source": [
    "# Áp dụng tiền xử lí dữ liệu để phù hợp với mô hình CNN\n",
    "ds_train_full = ds_train_full.map(pre_process, num_parallel_calls=tf.data.AUTOTUNE)\n",
    "\n",
    "# Chi train là 90%, valid là 10%\n",
    "val_size = int(0.1 * ds_info.splits['train'].num_examples)\n",
    "\n",
    "ds_val = ds_train_full.take(val_size).batch(128).prefetch(tf.data.AUTOTUNE)\n",
    "ds_train = ds_train_full.skip(val_size).batch(128).prefetch(tf.data.AUTOTUNE)\n",
    "\n",
    "ds_test = ds_test.map(pre_process).batch(128).prefetch(tf.data.AUTOTUNE)"
   ]
  },
  {
   "cell_type": "markdown",
   "id": "5bb4ffaf",
   "metadata": {},
   "source": [
    "Xây dựng kiến trúc CNN"
   ]
  },
  {
   "cell_type": "code",
   "execution_count": null,
   "id": "470a094a",
   "metadata": {},
   "outputs": [],
   "source": [
    "model = tf.keras.Sequential([\n",
    "    tf.keras.layers.Conv2D(32, (3, 3), activation='relu', padding='same', input_shape=(28, 28, 1)),\n",
    "    tf.keras.layers.BatchNormalization(),\n",
    "    tf.keras.layers.MaxPooling2D((2, 2)),\n",
    "\n",
    "    tf.keras.layers.Conv2D(64, (3, 3), activation='relu', padding='same'),\n",
    "    tf.keras.layers.BatchNormalization(),\n",
    "    tf.keras.layers.MaxPooling2D((2, 2)),\n",
    "\n",
    "    tf.keras.layers.Conv2D(128, (3, 3), activation='relu', padding='same'),\n",
    "    tf.keras.layers.BatchNormalization(),\n",
    "\n",
    "    # Thay MaxPooling cuối cùng bằng GlobalAveragePooling2D\n",
    "    tf.keras.layers.GlobalAveragePooling2D(),\n",
    "\n",
    "    tf.keras.layers.Dense(256, activation='relu', kernel_regularizer=tf.keras.regularizers.l2(0.001)),\n",
    "    tf.keras.layers.Dropout(0.4),\n",
    "    tf.keras.layers.Dense(26, activation='softmax')\n",
    "])\n"
   ]
  },
  {
   "cell_type": "markdown",
   "id": "eb9c27b9",
   "metadata": {},
   "source": [
    "Biên dịch mô hình"
   ]
  },
  {
   "cell_type": "code",
   "execution_count": null,
   "id": "b6897172",
   "metadata": {},
   "outputs": [],
   "source": [
    "model.compile(\n",
    "    optimizer=tf.keras.optimizers.Adam(learning_rate=1e-4),\n",
    "    loss='sparse_categorical_crossentropy',\n",
    "    metrics=['accuracy']\n",
    ")\n",
    "\n",
    "model.summary()"
   ]
  },
  {
   "cell_type": "markdown",
   "id": "709a85eb",
   "metadata": {},
   "source": [
    "Huấn luyện mô hình"
   ]
  },
  {
   "cell_type": "code",
   "execution_count": null,
   "id": "3674b3c3",
   "metadata": {},
   "outputs": [],
   "source": [
    "from tensorflow.keras.callbacks import EarlyStopping\n",
    "\n",
    "early_stop = EarlyStopping(monitor='val_loss', patience=5, restore_best_weights=True)\n",
    "\n",
    "history = model.fit(\n",
    "    ds_train,\n",
    "    validation_data=ds_val,\n",
    "    epochs=30,\n",
    "    callbacks=[early_stop]\n",
    ")\n",
    "\n",
    "test_loss, test_acc = model.evaluate(ds_test)\n",
    "print(f\"Độ chính xác trên tập test: {test_acc:.2%}\")\n",
    "\n",
    "model.save(\"newModel.h5\")\n"
   ]
  }
 ],
 "metadata": {
  "kernelspec": {
   "display_name": "Python 3",
   "language": "python",
   "name": "python3"
  },
  "language_info": {
   "codemirror_mode": {
    "name": "ipython",
    "version": 3
   },
   "file_extension": ".py",
   "mimetype": "text/x-python",
   "name": "python",
   "nbconvert_exporter": "python",
   "pygments_lexer": "ipython3",
   "version": "3.11.9"
  }
 },
 "nbformat": 4,
 "nbformat_minor": 5
}
